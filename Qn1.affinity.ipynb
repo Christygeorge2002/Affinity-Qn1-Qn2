{
 "cells": [
  {
   "cell_type": "markdown",
   "id": "a498dd9f-dc2d-4e50-80e4-5a90dede1fa7",
   "metadata": {},
   "source": [
    "## Qn1.  PIN Code Validation Program"
   ]
  },
  {
   "cell_type": "raw",
   "id": "fb066e2b-b312-42af-9297-6628811ce263",
   "metadata": {},
   "source": [
    "This program is designed to validate whether the PIN code in a free-flowing address corresponds to the correct location details. It utilizes the Postal Pincode API (http://www.postalpincode.in/Api-Details) to fetch location information for the given PIN code and verifies it against the address text.\n",
    "\n",
    "Approach:\n",
    "1. Extract the 6-digit PIN code from the provided address.\n",
    "2. Retrieve location details using the postal API.\n",
    "3. Compare locality, district, and state information from the API with the address.\n",
    "\n",
    "Assumptions:\n",
    "- PIN codes are exactly 6 digits.\n",
    "- Valid PIN codes return location details.\n",
    "- Address validation considers district, state, and post office names.\n",
    "\n",
    "Test Cases:\n",
    "1. Valid address with correct matching PIN code.\n",
    "2. Valid address with incorrect PIN code.\n",
    "3. Address containing a valid PIN but missing locality details.\n",
    "4. Address without any PIN code.\n",
    "5. Invalid PIN code (e.g., 999999).\n",
    "6. Empty address string.\n",
    "7. Address containing special characters or noise text.\n",
    "8. Valid PIN with non-matching city or state in the address.\n",
    "9. Address with PIN code appearing at the start.\n",
    "10. Address containing multiple PIN codes."
   ]
  },
  {
   "cell_type": "code",
   "execution_count": 9,
   "id": "c43f951c-bc12-491c-b300-d3afb5b728b6",
   "metadata": {},
   "outputs": [
    {
     "name": "stdout",
     "output_type": "stream",
     "text": [
      "Address: 2nd Phase, 374/B, 80 Feet Rd, Mysore Bank Colony, Banashankari 3rd Stage, Srinivasa Nagar, Bengaluru, Karnataka 560050\n",
      "Validation Result: PIN code 560050 matches the address.\n",
      "\n",
      "Address: 2nd Phase, 374/B, 80 Feet Rd, Mysore Bank Colony, Banashankari 3rd Stage, Srinivasa Nagar, Bengaluru, Karnataka 560095\n",
      "Validation Result: PIN code 560095 matches the address.\n",
      "\n",
      "Address: Colony, Bengaluru, Karnataka 560050\n",
      "Validation Result: PIN code 560050 matches the address.\n",
      "\n",
      "Address: 80 Feet Rd, Bangalore, Karnataka 560001\n",
      "Validation Result: PIN code 560001 matches the address.\n",
      "\n",
      "Address: Sector 15, Noida, Uttar Pradesh 201301\n",
      "Validation Result: PIN code 201301 matches the address.\n",
      "\n"
     ]
    }
   ],
   "source": [
    "import re\n",
    "import requests\n",
    "\n",
    "def extract_pin_from_address(address):\n",
    "    \"\"\"Extract a 6-digit PIN code from the provided address string.\"\"\"\n",
    "    pin_match = re.search(r'\\b\\d{6}\\b', address)\n",
    "    return pin_match.group() if pin_match else None\n",
    "\n",
    "def fetch_pin_details(pin_code):\n",
    "    \"\"\"Fetch location details for the given PIN code using the postal API.\"\"\"\n",
    "    response = requests.get(f\"http://www.postalpincode.in/api/pincode/{pin_code}\")\n",
    "    return response.json()\n",
    "\n",
    "def validate_pin_against_address(address):\n",
    "    \"\"\"Validate if the PIN code in the address matches the location information from the API.\"\"\"\n",
    "    pin_code = extract_pin_from_address(address)\n",
    "    if not pin_code:\n",
    "        return \"No PIN code found in the address.\"\n",
    "\n",
    "    pin_data = fetch_pin_details(pin_code)\n",
    "    if pin_data['Status'] != 'Success':\n",
    "        return f\"Invalid PIN code: {pin_code}\"\n",
    "\n",
    "    valid_locations = set()\n",
    "    for office in pin_data['PostOffice']:\n",
    "        valid_locations.update({\n",
    "            office['Name'].lower(),\n",
    "            office['District'].lower(),\n",
    "            office['State'].lower()\n",
    "        })\n",
    "\n",
    "    address_lower = address.lower()\n",
    "    if any(loc in address_lower for loc in valid_locations):\n",
    "        return f\"PIN code {pin_code} matches the address.\"\n",
    "\n",
    "    return f\"PIN code {pin_code} does not match the address.\"\n",
    "\n",
    "def run_validation_tests():\n",
    "    test_addresses = [\n",
    "        \"2nd Phase, 374/B, 80 Feet Rd, Mysore Bank Colony, Banashankari 3rd Stage, Srinivasa Nagar, Bengaluru, Karnataka 560050\",\n",
    "        \"2nd Phase, 374/B, 80 Feet Rd, Mysore Bank Colony, Banashankari 3rd Stage, Srinivasa Nagar, Bengaluru, Karnataka 560095\",\n",
    "        \"Colony, Bengaluru, Karnataka 560050\",\n",
    "        \"80 Feet Rd, Bangalore, Karnataka 560001\",\n",
    "        \"Sector 15, Noida, Uttar Pradesh 201301\"\n",
    "    ]\n",
    "\n",
    "    for address in test_addresses:\n",
    "        result = validate_pin_against_address(address)\n",
    "        print(f\"Address: {address}\\nValidation Result: {result}\\n\")\n",
    "\n",
    "if __name__ == \"__main__\":\n",
    "    run_validation_tests()\n"
   ]
  },
  {
   "cell_type": "markdown",
   "id": "dd68e2e0-5c7b-4076-9a08-9817713938b7",
   "metadata": {},
   "source": []
  },
  {
   "cell_type": "code",
   "execution_count": 1,
   "id": "01f099b7-41f0-4de8-8278-af7ce0057fae",
   "metadata": {},
   "outputs": [],
   "source": [
    "\n",
    "\n"
   ]
  },
  {
   "cell_type": "code",
   "execution_count": null,
   "id": "99dc2564-76bb-468c-9b6e-cd9f65826721",
   "metadata": {},
   "outputs": [],
   "source": [
    "\n"
   ]
  },
  {
   "cell_type": "code",
   "execution_count": null,
   "id": "c3e662e1-4d91-47a3-b95e-a333dd4bf036",
   "metadata": {},
   "outputs": [],
   "source": [
    "\n",
    "\n"
   ]
  },
  {
   "cell_type": "code",
   "execution_count": null,
   "id": "a10968a5-664e-4d43-9eda-f3886b10956e",
   "metadata": {},
   "outputs": [],
   "source": [
    "\n"
   ]
  },
  {
   "cell_type": "code",
   "execution_count": null,
   "id": "3e26b49a-5281-4ccd-9092-f2250adc6ade",
   "metadata": {},
   "outputs": [],
   "source": []
  }
 ],
 "metadata": {
  "kernelspec": {
   "display_name": "Python 3 (ipykernel)",
   "language": "python",
   "name": "python3"
  },
  "language_info": {
   "codemirror_mode": {
    "name": "ipython",
    "version": 3
   },
   "file_extension": ".py",
   "mimetype": "text/x-python",
   "name": "python",
   "nbconvert_exporter": "python",
   "pygments_lexer": "ipython3",
   "version": "3.12.4"
  }
 },
 "nbformat": 4,
 "nbformat_minor": 5
}
